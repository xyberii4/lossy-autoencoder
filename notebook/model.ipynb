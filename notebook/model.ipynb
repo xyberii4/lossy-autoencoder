{
 "cells": [
  {
   "cell_type": "code",
   "execution_count": 23,
   "metadata": {},
   "outputs": [],
   "source": [
    "import numpy as np\n",
    "import matplotlib.pyplot as plt\n",
    "from sklearn.model_selection import train_test_split\n"
   ]
  },
  {
   "cell_type": "markdown",
   "metadata": {},
   "source": [
    "First load the data and process it before training. Data should be in the previous folder from the one where the notebook is executed."
   ]
  },
  {
   "cell_type": "code",
   "execution_count": 24,
   "metadata": {},
   "outputs": [],
   "source": [
    "subset_1 = np.load(\"../data/subset_1.npy\")\n",
    "subset_2 = np.load(\"../data/subset_2.npy\")\n",
    "subset_3 = np.load(\"../data/subset_3.npy\")\n",
    "\n",
    "IMG_NUM = len(subset_1) + len(subset_2) + len(subset_3) #1196\n",
    "\n",
    "#Combine all subsets and reshape to image dimensions\n",
    "data = np.vstack((subset_1,subset_2,subset_3)).reshape(IMG_NUM,150,225,3)\n",
    "\n",
    "#Normalize to (0,1)\n",
    "normalized = data.astype('float32') / 255.0\n",
    "\n",
    "#Split into train and test\n",
    "train, test = train_test_split(normalized, test_size=0.2, random_state=42)\n"
   ]
  }
 ],
 "metadata": {
  "kernelspec": {
   "display_name": "lossy-autoencoder-0niQMdri-py3.11",
   "language": "python",
   "name": "python3"
  },
  "language_info": {
   "codemirror_mode": {
    "name": "ipython",
    "version": 3
   },
   "file_extension": ".py",
   "mimetype": "text/x-python",
   "name": "python",
   "nbconvert_exporter": "python",
   "pygments_lexer": "ipython3",
   "version": "3.11.11"
  }
 },
 "nbformat": 4,
 "nbformat_minor": 2
}
